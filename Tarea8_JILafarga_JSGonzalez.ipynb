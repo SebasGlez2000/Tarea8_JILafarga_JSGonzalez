{
 "cells": [
  {
   "cell_type": "markdown",
   "metadata": {},
   "source": [
    "<img style=\"float: left; margin: 30px 15px 15px 15px;\" src=\"https://pngimage.net/wp-content/uploads/2018/06/logo-iteso-png-5.png\" width=\"300\" height=\"500\" /> \n",
    "    \n",
    "    \n",
    "### <font color='navy'> Simulación de procesos financieros. \n",
    "\n",
    "**Nombres:** Jesus Ivan Lafarga Lizarraga, Jesus Sebastian Gonzalez Ortiz\n",
    "\n",
    "**Fecha:** 23 de noviembre del 2021.\n",
    "\n",
    "**Expediente** : 708989 y 721621.\n",
    "**Profesor:** Oscar David Jaramillo Zuluaga.\n",
    "    \n",
    "**Link Github**: Link con el enlace del repositorio del creador del proyecto\n",
    "\n",
    "# Tarea 8: Clase 16"
   ]
  },
  {
   "cell_type": "markdown",
   "metadata": {},
   "source": [
    "### Ejercicio 1: \n",
    "$$ P(S(t),t)=max\\{S(T)-K,0\\} \\rightarrow \\text{En el caso de Call}$$ \n",
    "$$ P(S(t),t)=max\\{K-S(T),0\\} \\rightarrow \\text{En el caso de Put}$$ \n",
    "se llaman opciones **Vainilla**, con $h:[0,\\infty) \\to [0,\\infty)$.\n",
    "\n",
    "Replicar el procedimiento anterior para valoración de opciones 'call', pero en este caso para opciones tipo 'put' y además deben de comparar con los resultados teoricos del método de valuación de Black-Scholes (ecuación del principio de clase)"
   ]
  },
  {
   "cell_type": "markdown",
   "metadata": {},
   "source": [
    "Código de solución estudiante 1"
   ]
  },
  {
   "cell_type": "code",
   "execution_count": 1,
   "metadata": {},
   "outputs": [
    {
     "name": "stdout",
     "output_type": "stream",
     "text": [
      "Requirement already satisfied: pandas-datareader in /Users/ivanlafarga/opt/anaconda3/lib/python3.8/site-packages (0.10.0)\n",
      "Requirement already satisfied: lxml in /Users/ivanlafarga/opt/anaconda3/lib/python3.8/site-packages (from pandas-datareader) (4.6.3)\n",
      "Requirement already satisfied: pandas>=0.23 in /Users/ivanlafarga/opt/anaconda3/lib/python3.8/site-packages (from pandas-datareader) (1.2.4)\n",
      "Requirement already satisfied: requests>=2.19.0 in /Users/ivanlafarga/opt/anaconda3/lib/python3.8/site-packages (from pandas-datareader) (2.25.1)\n",
      "Requirement already satisfied: python-dateutil>=2.7.3 in /Users/ivanlafarga/opt/anaconda3/lib/python3.8/site-packages (from pandas>=0.23->pandas-datareader) (2.8.1)\n",
      "Requirement already satisfied: pytz>=2017.3 in /Users/ivanlafarga/opt/anaconda3/lib/python3.8/site-packages (from pandas>=0.23->pandas-datareader) (2021.1)\n",
      "Requirement already satisfied: numpy>=1.16.5 in /Users/ivanlafarga/opt/anaconda3/lib/python3.8/site-packages (from pandas>=0.23->pandas-datareader) (1.20.1)\n",
      "Requirement already satisfied: six>=1.5 in /Users/ivanlafarga/opt/anaconda3/lib/python3.8/site-packages (from python-dateutil>=2.7.3->pandas>=0.23->pandas-datareader) (1.15.0)\n",
      "Requirement already satisfied: urllib3<1.27,>=1.21.1 in /Users/ivanlafarga/opt/anaconda3/lib/python3.8/site-packages (from requests>=2.19.0->pandas-datareader) (1.26.4)\n",
      "Requirement already satisfied: idna<3,>=2.5 in /Users/ivanlafarga/opt/anaconda3/lib/python3.8/site-packages (from requests>=2.19.0->pandas-datareader) (2.10)\n",
      "Requirement already satisfied: chardet<5,>=3.0.2 in /Users/ivanlafarga/opt/anaconda3/lib/python3.8/site-packages (from requests>=2.19.0->pandas-datareader) (4.0.0)\n",
      "Requirement already satisfied: certifi>=2017.4.17 in /Users/ivanlafarga/opt/anaconda3/lib/python3.8/site-packages (from requests>=2.19.0->pandas-datareader) (2020.12.5)\n",
      "Note: you may need to restart the kernel to use updated packages.\n"
     ]
    }
   ],
   "source": [
    "pip install pandas-datareader"
   ]
  },
  {
   "cell_type": "code",
   "execution_count": 42,
   "metadata": {},
   "outputs": [
    {
     "name": "stdout",
     "output_type": "stream",
     "text": [
      "Collecting fix_yahoo_finance\n",
      "  Downloading fix-yahoo-finance-0.1.37.tar.gz (6.3 kB)\n",
      "\u001b[31m    ERROR: Command errored out with exit status 1:\n",
      "     command: /Users/ivanlafarga/opt/anaconda3/bin/python -c 'import sys, setuptools, tokenize; sys.argv[0] = '\"'\"'/private/var/folders/r1/8xhjld3d5dgfvlqk30f1yfwc0000gn/T/pip-install-yi7_tw7x/fix-yahoo-finance_48843eb021974d8caf1ac68dd2ab10c8/setup.py'\"'\"'; __file__='\"'\"'/private/var/folders/r1/8xhjld3d5dgfvlqk30f1yfwc0000gn/T/pip-install-yi7_tw7x/fix-yahoo-finance_48843eb021974d8caf1ac68dd2ab10c8/setup.py'\"'\"';f=getattr(tokenize, '\"'\"'open'\"'\"', open)(__file__);code=f.read().replace('\"'\"'\\r\\n'\"'\"', '\"'\"'\\n'\"'\"');f.close();exec(compile(code, __file__, '\"'\"'exec'\"'\"'))' egg_info --egg-base /private/var/folders/r1/8xhjld3d5dgfvlqk30f1yfwc0000gn/T/pip-pip-egg-info-valvac20\n",
      "         cwd: /private/var/folders/r1/8xhjld3d5dgfvlqk30f1yfwc0000gn/T/pip-install-yi7_tw7x/fix-yahoo-finance_48843eb021974d8caf1ac68dd2ab10c8/\n",
      "    Complete output (7 lines):\n",
      "    Traceback (most recent call last):\n",
      "      File \"<string>\", line 1, in <module>\n",
      "      File \"/private/var/folders/r1/8xhjld3d5dgfvlqk30f1yfwc0000gn/T/pip-install-yi7_tw7x/fix-yahoo-finance_48843eb021974d8caf1ac68dd2ab10c8/setup.py\", line 19, in <module>\n",
      "        from fix_yahoo_finance import __version__\n",
      "      File \"/private/var/folders/r1/8xhjld3d5dgfvlqk30f1yfwc0000gn/T/pip-install-yi7_tw7x/fix-yahoo-finance_48843eb021974d8caf1ac68dd2ab10c8/fix_yahoo_finance/__init__.py\", line 22, in <module>\n",
      "        import yfinance\n",
      "    ModuleNotFoundError: No module named 'yfinance'\n",
      "    ----------------------------------------\u001b[0m\n",
      "\u001b[33mWARNING: Discarding https://files.pythonhosted.org/packages/a5/f3/aba3b563452faaea71b4161754991e3143751ec9141d83c4bce05992332a/fix-yahoo-finance-0.1.37.tar.gz#sha256=dd337e30907c5625937ca001a205fb4de12a04c12ddc85c90356b4546e651561 (from https://pypi.org/simple/fix-yahoo-finance/). Command errored out with exit status 1: python setup.py egg_info Check the logs for full command output.\u001b[0m\n",
      "  Downloading fix-yahoo-finance-0.1.36.tar.gz (6.2 kB)\n",
      "\u001b[31m    ERROR: Command errored out with exit status 1:\n",
      "     command: /Users/ivanlafarga/opt/anaconda3/bin/python -c 'import sys, setuptools, tokenize; sys.argv[0] = '\"'\"'/private/var/folders/r1/8xhjld3d5dgfvlqk30f1yfwc0000gn/T/pip-install-yi7_tw7x/fix-yahoo-finance_2a4d290753f245c6b027bc3a86375e38/setup.py'\"'\"'; __file__='\"'\"'/private/var/folders/r1/8xhjld3d5dgfvlqk30f1yfwc0000gn/T/pip-install-yi7_tw7x/fix-yahoo-finance_2a4d290753f245c6b027bc3a86375e38/setup.py'\"'\"';f=getattr(tokenize, '\"'\"'open'\"'\"', open)(__file__);code=f.read().replace('\"'\"'\\r\\n'\"'\"', '\"'\"'\\n'\"'\"');f.close();exec(compile(code, __file__, '\"'\"'exec'\"'\"'))' egg_info --egg-base /private/var/folders/r1/8xhjld3d5dgfvlqk30f1yfwc0000gn/T/pip-pip-egg-info-vky76744\n",
      "         cwd: /private/var/folders/r1/8xhjld3d5dgfvlqk30f1yfwc0000gn/T/pip-install-yi7_tw7x/fix-yahoo-finance_2a4d290753f245c6b027bc3a86375e38/\n",
      "    Complete output (7 lines):\n",
      "    Traceback (most recent call last):\n",
      "      File \"<string>\", line 1, in <module>\n",
      "      File \"/private/var/folders/r1/8xhjld3d5dgfvlqk30f1yfwc0000gn/T/pip-install-yi7_tw7x/fix-yahoo-finance_2a4d290753f245c6b027bc3a86375e38/setup.py\", line 12, in <module>\n",
      "        from fix_yahoo_finance import __version__\n",
      "      File \"/private/var/folders/r1/8xhjld3d5dgfvlqk30f1yfwc0000gn/T/pip-install-yi7_tw7x/fix-yahoo-finance_2a4d290753f245c6b027bc3a86375e38/fix_yahoo_finance/__init__.py\", line 22, in <module>\n",
      "        import yfinance\n",
      "    ModuleNotFoundError: No module named 'yfinance'\n",
      "    ----------------------------------------\u001b[0m\n",
      "\u001b[33mWARNING: Discarding https://files.pythonhosted.org/packages/f9/df/e97d13ecf7b4dcb358a73606c098faecf793da05d9025608a8a74ab45bd3/fix-yahoo-finance-0.1.36.tar.gz#sha256=50ceef149d3710e652f51cadfe8e3bfb96eb98d61c31ae924c7d44a4c1a9766f (from https://pypi.org/simple/fix-yahoo-finance/). Command errored out with exit status 1: python setup.py egg_info Check the logs for full command output.\u001b[0m\n",
      "  Downloading fix-yahoo-finance-0.1.35.tar.gz (11 kB)\n",
      "Requirement already satisfied: pandas>=0.24 in /Users/ivanlafarga/opt/anaconda3/lib/python3.8/site-packages (from fix_yahoo_finance) (1.2.4)\n",
      "Requirement already satisfied: numpy>=1.15 in /Users/ivanlafarga/opt/anaconda3/lib/python3.8/site-packages (from fix_yahoo_finance) (1.20.1)\n",
      "Requirement already satisfied: requests>=2.20 in /Users/ivanlafarga/opt/anaconda3/lib/python3.8/site-packages (from fix_yahoo_finance) (2.25.1)\n",
      "Collecting multitasking>=0.0.7\n",
      "  Downloading multitasking-0.0.10.tar.gz (8.2 kB)\n",
      "Requirement already satisfied: python-dateutil>=2.7.3 in /Users/ivanlafarga/opt/anaconda3/lib/python3.8/site-packages (from pandas>=0.24->fix_yahoo_finance) (2.8.1)\n",
      "Requirement already satisfied: pytz>=2017.3 in /Users/ivanlafarga/opt/anaconda3/lib/python3.8/site-packages (from pandas>=0.24->fix_yahoo_finance) (2021.1)\n",
      "Requirement already satisfied: six>=1.5 in /Users/ivanlafarga/opt/anaconda3/lib/python3.8/site-packages (from python-dateutil>=2.7.3->pandas>=0.24->fix_yahoo_finance) (1.15.0)\n",
      "Requirement already satisfied: idna<3,>=2.5 in /Users/ivanlafarga/opt/anaconda3/lib/python3.8/site-packages (from requests>=2.20->fix_yahoo_finance) (2.10)\n",
      "Requirement already satisfied: chardet<5,>=3.0.2 in /Users/ivanlafarga/opt/anaconda3/lib/python3.8/site-packages (from requests>=2.20->fix_yahoo_finance) (4.0.0)\n",
      "Requirement already satisfied: certifi>=2017.4.17 in /Users/ivanlafarga/opt/anaconda3/lib/python3.8/site-packages (from requests>=2.20->fix_yahoo_finance) (2020.12.5)\n",
      "Requirement already satisfied: urllib3<1.27,>=1.21.1 in /Users/ivanlafarga/opt/anaconda3/lib/python3.8/site-packages (from requests>=2.20->fix_yahoo_finance) (1.26.4)\n",
      "Building wheels for collected packages: fix-yahoo-finance, multitasking\n",
      "  Building wheel for fix-yahoo-finance (setup.py) ... \u001b[?25ldone\n",
      "\u001b[?25h  Created wheel for fix-yahoo-finance: filename=fix_yahoo_finance-0.1.35-py3-none-any.whl size=12433 sha256=dc4a9099d3bc9b0e8c46f9cd5b4021ec7574352fa6326af5137c281dd91edc84\n",
      "  Stored in directory: /Users/ivanlafarga/Library/Caches/pip/wheels/8f/94/0a/e7c84bd69dfa490853e77374e91e16aacc90d0063230b5e8ca\n",
      "  Building wheel for multitasking (setup.py) ... \u001b[?25ldone\n",
      "\u001b[?25h  Created wheel for multitasking: filename=multitasking-0.0.10-py3-none-any.whl size=8488 sha256=e033937041b8a7f5aff58f46bdcaa6996ae8c2e6052a050085f0f8f0a3243737\n",
      "  Stored in directory: /Users/ivanlafarga/Library/Caches/pip/wheels/21/c9/66/b41c847de65c7985db52ec21d59996841598b8b0e93f2b9500\n",
      "Successfully built fix-yahoo-finance multitasking\n",
      "Installing collected packages: multitasking, fix-yahoo-finance\n",
      "Successfully installed fix-yahoo-finance-0.1.35 multitasking-0.0.10\n",
      "Note: you may need to restart the kernel to use updated packages.\n"
     ]
    }
   ],
   "source": [
    "pip install fix_yahoo_finance"
   ]
  },
  {
   "cell_type": "code",
   "execution_count": 3,
   "metadata": {},
   "outputs": [],
   "source": [
    "# Función para descargar precios de cierre ajustados:\n",
    "def get_adj_closes(tickers, start_date=None, end_date=None):\n",
    "    # Fecha inicio por defecto (start_date='2010-01-01') y fecha fin por defecto (end_date=today)\n",
    "    # Descargamos DataFrame con todos los datos\n",
    "    closes = web.DataReader(name=tickers, data_source='yahoo', start=start_date, end=end_date)\n",
    "    # Solo necesitamos los precios ajustados en el cierre\n",
    "    closes = closes['Adj Close']\n",
    "    # Se ordenan los índices de manera ascendente\n",
    "    closes.sort_index(inplace=True)\n",
    "    return closes\n",
    "\n",
    "#Función que regresa rendimientos logarítmicos:\n",
    "def calc_daily_ret(closes):\n",
    "    return np.log(closes/closes.shift(1)).iloc[1:]"
   ]
  },
  {
   "cell_type": "code",
   "execution_count": 5,
   "metadata": {},
   "outputs": [],
   "source": [
    "# Importar paquetes\n",
    "import pandas as pd\n",
    "import pandas_datareader.data as web\n",
    "import matplotlib.pyplot as plt\n",
    "%matplotlib inline\n",
    "import numpy as np"
   ]
  },
  {
   "cell_type": "code",
   "execution_count": 27,
   "metadata": {},
   "outputs": [],
   "source": [
    "# Importar datos de MSFT\n",
    "closes = get_adj_closes(tickers = ['MSFT',])\n",
    "tickers = ['MSFT']                  \n",
    "r = 0.006/360\n",
    "fr = 360*r"
   ]
  },
  {
   "cell_type": "code",
   "execution_count": null,
   "metadata": {},
   "outputs": [],
   "source": [
    "tickers = ['MSFT'] \n",
    "##\n",
    "MSFT =  web.DataReader(\"MSFT\", \"yahoo\", start, end)\n",
    "MSFT_opt = MSFT.get_all_data().reset_index()\n",
    "MSFT_opt.set_index('Expiry').sort_index()"
   ]
  },
  {
   "cell_type": "code",
   "execution_count": 17,
   "metadata": {},
   "outputs": [
    {
     "data": {
      "text/html": [
       "<div>\n",
       "<style scoped>\n",
       "    .dataframe tbody tr th:only-of-type {\n",
       "        vertical-align: middle;\n",
       "    }\n",
       "\n",
       "    .dataframe tbody tr th {\n",
       "        vertical-align: top;\n",
       "    }\n",
       "\n",
       "    .dataframe thead th {\n",
       "        text-align: right;\n",
       "    }\n",
       "</style>\n",
       "<table border=\"1\" class=\"dataframe\">\n",
       "  <thead>\n",
       "    <tr style=\"text-align: right;\">\n",
       "      <th>Symbols</th>\n",
       "      <th>MSFT</th>\n",
       "    </tr>\n",
       "    <tr>\n",
       "      <th>Date</th>\n",
       "      <th></th>\n",
       "    </tr>\n",
       "  </thead>\n",
       "  <tbody>\n",
       "    <tr>\n",
       "      <th>2016-11-25</th>\n",
       "      <td>56.279</td>\n",
       "    </tr>\n",
       "    <tr>\n",
       "      <th>2016-11-28</th>\n",
       "      <td>56.354</td>\n",
       "    </tr>\n",
       "    <tr>\n",
       "      <th>2016-11-29</th>\n",
       "      <td>56.800</td>\n",
       "    </tr>\n",
       "    <tr>\n",
       "      <th>2016-11-30</th>\n",
       "      <td>56.028</td>\n",
       "    </tr>\n",
       "    <tr>\n",
       "      <th>2016-12-01</th>\n",
       "      <td>55.043</td>\n",
       "    </tr>\n",
       "    <tr>\n",
       "      <th>...</th>\n",
       "      <td>...</td>\n",
       "    </tr>\n",
       "    <tr>\n",
       "      <th>2021-11-17</th>\n",
       "      <td>339.120</td>\n",
       "    </tr>\n",
       "    <tr>\n",
       "      <th>2021-11-18</th>\n",
       "      <td>341.270</td>\n",
       "    </tr>\n",
       "    <tr>\n",
       "      <th>2021-11-19</th>\n",
       "      <td>343.110</td>\n",
       "    </tr>\n",
       "    <tr>\n",
       "      <th>2021-11-22</th>\n",
       "      <td>339.830</td>\n",
       "    </tr>\n",
       "    <tr>\n",
       "      <th>2021-11-23</th>\n",
       "      <td>334.780</td>\n",
       "    </tr>\n",
       "  </tbody>\n",
       "</table>\n",
       "<p>1258 rows × 1 columns</p>\n",
       "</div>"
      ],
      "text/plain": [
       "Symbols        MSFT\n",
       "Date               \n",
       "2016-11-25   56.279\n",
       "2016-11-28   56.354\n",
       "2016-11-29   56.800\n",
       "2016-11-30   56.028\n",
       "2016-12-01   55.043\n",
       "...             ...\n",
       "2021-11-17  339.120\n",
       "2021-11-18  341.270\n",
       "2021-11-19  343.110\n",
       "2021-11-22  339.830\n",
       "2021-11-23  334.780\n",
       "\n",
       "[1258 rows x 1 columns]"
      ]
     },
     "execution_count": 17,
     "metadata": {},
     "output_type": "execute_result"
    }
   ],
   "source": [
    "closes.sort_index()"
   ]
  },
  {
   "cell_type": "code",
   "execution_count": 11,
   "metadata": {},
   "outputs": [
    {
     "data": {
      "text/plain": [
       "<AxesSubplot:xlabel='Date'>"
      ]
     },
     "execution_count": 11,
     "metadata": {},
     "output_type": "execute_result"
    },
    {
     "data": {
      "image/png": "[encoded data removed]",
      "text/plain": [
       "<Figure size 432x288 with 1 Axes>"
      ]
     },
     "metadata": {
      "needs_background": "light"
     },
     "output_type": "display_data"
    }
   ],
   "source": [
    "closes.plot()"
   ]
  },
  {
   "cell_type": "code",
   "execution_count": null,
   "metadata": {},
   "outputs": [],
   "source": [
    "print(\"Precio activo actual:\",MSFT_opt.Underlying_Price[0])"
   ]
  },
  {
   "cell_type": "code",
   "execution_count": null,
   "metadata": {},
   "outputs": [],
   "source": [
    "p = MSFT_opt.Underlying_Price[0]"
   ]
  },
  {
   "cell_type": "code",
   "execution_count": 39,
   "metadata": {},
   "outputs": [
    {
     "data": {
      "image/png": "[encoded data removed]",
      "text/plain": [
       "<Figure size 360x288 with 1 Axes>"
      ]
     },
     "metadata": {
      "needs_background": "light"
     },
     "output_type": "display_data"
    }
   ],
   "source": [
    "#Graficar rendimientos logarítmicos:\n",
    "ret_MSFT = calc_daily_ret(closes)\n",
    "ret_MSFT.plot(figsize=(5,4));"
   ]
  },
  {
   "cell_type": "code",
   "execution_count": null,
   "metadata": {},
   "outputs": [],
   "source": [
    "k = 700 \n",
    "fecha = '2022-09-16'\n",
    "indice_opt = MSFT_opt.loc[(MSFT_opt.Type=='put') & (MSFT_opt.Strike==k) & (MSFT_opt.Expiry==fecha)]\n",
    "indice_opt"
   ]
  },
  {
   "cell_type": "code",
   "execution_count": null,
   "metadata": {},
   "outputs": [],
   "source": [
    "i_opt= indice_opt.index\n",
    "opcion_valuar = MSFT_opt.loc[i_opt[0]]\n",
    "opcion_valuar['JSON']"
   ]
  },
  {
   "cell_type": "code",
   "execution_count": null,
   "metadata": {},
   "outputs": [],
   "source": [
    "print('Precio del activo subyacente actual = ',opcion_valuar.Underlying_Price)"
   ]
  },
  {
   "cell_type": "markdown",
   "metadata": {},
   "source": [
    "### Simulación de precios usando rendimiento simple y logarítmico :"
   ]
  },
  {
   "cell_type": "code",
   "execution_count": null,
   "metadata": {},
   "outputs": [],
   "source": [
    "# Rendimiento simple:\n",
    "Ri = closes_MSFT.pct_change(1).iloc[1:]\n",
    "# Media y desviación estándar de los rendimientos:\n",
    "mu_R = Ri.mean()[0]\n",
    "sigma_R = Ri.std()[0]\n",
    "Ri.head(3)"
   ]
  },
  {
   "cell_type": "markdown",
   "metadata": {},
   "source": [
    "#"
   ]
  },
  {
   "cell_type": "markdown",
   "metadata": {},
   "source": [
    "Código de solución estudiante 2"
   ]
  },
  {
   "cell_type": "code",
   "execution_count": null,
   "metadata": {},
   "outputs": [],
   "source": [
    "# Código de solución estudiante 2\n",
    ".\n",
    ".\n",
    ".\n",
    ".\n"
   ]
  },
  {
   "cell_type": "markdown",
   "metadata": {},
   "source": [
    "### Respuesta planteada en el ejercicio usando (markdown)\n",
    " La respuesta es ........."
   ]
  }
 ],
 "metadata": {
  "kernelspec": {
   "display_name": "Python 3",
   "language": "python",
   "name": "python3"
  },
  "language_info": {
   "codemirror_mode": {
    "name": "ipython",
    "version": 3
   },
   "file_extension": ".py",
   "mimetype": "text/x-python",
   "name": "python",
   "nbconvert_exporter": "python",
   "pygments_lexer": "ipython3",
   "version": "3.8.8"
  }
 },
 "nbformat": 4,
 "nbformat_minor": 2
}
